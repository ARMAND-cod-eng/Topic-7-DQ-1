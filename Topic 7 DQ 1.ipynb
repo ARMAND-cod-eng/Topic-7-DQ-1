{
 "cells": [
  {
   "cell_type": "markdown",
   "id": "c9e7e39f",
   "metadata": {},
   "source": [
    "# Topic 7 DQ 1"
   ]
  },
  {
   "cell_type": "markdown",
   "id": "be00245e",
   "metadata": {},
   "source": [
    "In what situations might you choose to use ANOVA over linear regression or vice versa? Provide a real-life example dataset and explain how you would approach the data analysis using either ANOVA or linear regression. Justify your choice of one of the two approaches. How can Python be used to develop a useful tool in this context?\n",
    "\n",
    "Prepare your answer as follows:\n",
    "\n",
    "    Provide a professionally written answer, anchored in scholarly work.\n",
    "    Create a diagram, table, or other visual prop to help explain your answer and include 1–2 sentences describing the visuals.\n",
    "    Include a Jupyter notebook with the relevant Python code you created.\n",
    "    Record a short 2- to 3-minute video (using tools like Zoom or Loom) in which you explain your answer and code. Use an online video platform such as Loom, YouTube, or Vimeo to upload your completed video. Include the link to the video in your answer."
   ]
  },
  {
   "cell_type": "markdown",
   "id": "60e2c57b",
   "metadata": {},
   "source": [
    "### Introduction:\n",
    "\n",
    "ANOVA (Analysis of Variance) and linear regression are both statistical techniques used to analyze relationships between variables. While they share similarities, they are applied in different contexts based on the nature of the data and the research question at hand. Understanding when to use ANOVA over linear regression, or vice versa, is crucial for effective data analysis."
   ]
  },
  {
   "cell_type": "markdown",
   "id": "6dfb8e94",
   "metadata": {},
   "source": [
    "### What Is Analysis of Variance (ANOVA)? \n",
    "Analysis of variance (ANOVA) is an analysis tool used in statistics that splits an observed aggregate variability found inside a data set into two parts: systematic factors and random factors. The systematic factors have a statistical influence on the given data set, while the random factors do not. Analysts use the ANOVA test to determine the influence that independent variables have on the dependent variable in a regression study. \n"
   ]
  },
  {
   "cell_type": "markdown",
   "id": "c4c6bdd5",
   "metadata": {},
   "source": [
    "### Example of ANOVA Model Preferred\n",
    "Suppose a biologist wants to understand whether or not four different fertilizers lead to the same average plant growth (in inches) during a one-month period. To test this, she applies each fertilizer to 20 plants and records the growth of each plant after one month.\n",
    "In this scenario, the biologist should use a one-way ANOVA model to analyze the differences between the fertilizers because there is one predictor variable and it is categorical.\n"
   ]
  },
  {
   "cell_type": "markdown",
   "id": "9ed8ad12",
   "metadata": {},
   "source": [
    "### What is linear regression?\n",
    "Linear regression analysis is used to predict the value of a variable based on the value of another variable. The variable you want to predict is called the dependent variable. The variable you are using to predict the other variable's value is called the independent variable.\n"
   ]
  },
  {
   "cell_type": "markdown",
   "id": "59724f69",
   "metadata": {},
   "source": [
    "### Example of Regression Model Preferred\n",
    "\n",
    "Suppose a real estate agent wants to understand the relationship between square footage and house price. To analyze this relationship, he collects data on square footage and house price for 200 houses in a particular city.\n",
    "In this scenario, the real estate agent should use a simple linear regression model to analyze the relationship between these two variables because the predictor variable (square footage) is continuous.\n"
   ]
  },
  {
   "cell_type": "markdown",
   "id": "c36a2d8c",
   "metadata": {},
   "source": [
    "### ANOVA vs. Linear Regression:\n",
    "ANOVA is typically used when the main objective is to compare means across multiple groups. It is well-suited for situations where the independent variable is categorical and the dependent variable is continuous. On the other hand, linear regression is employed when the focus is on predicting the value of a continuous dependent variable based on one or more continuous or categorical independent variables.\n"
   ]
  },
  {
   "cell_type": "code",
   "execution_count": 14,
   "id": "20b2181f",
   "metadata": {},
   "outputs": [],
   "source": [
    "import pandas as pd\n",
    "from scipy.stats import f_oneway\n"
   ]
  },
  {
   "cell_type": "code",
   "execution_count": 15,
   "id": "8b86ba15",
   "metadata": {},
   "outputs": [
    {
     "data": {
      "text/html": [
       "<div>\n",
       "<style scoped>\n",
       "    .dataframe tbody tr th:only-of-type {\n",
       "        vertical-align: middle;\n",
       "    }\n",
       "\n",
       "    .dataframe tbody tr th {\n",
       "        vertical-align: top;\n",
       "    }\n",
       "\n",
       "    .dataframe thead th {\n",
       "        text-align: right;\n",
       "    }\n",
       "</style>\n",
       "<table border=\"1\" class=\"dataframe\">\n",
       "  <thead>\n",
       "    <tr style=\"text-align: right;\">\n",
       "      <th></th>\n",
       "      <th>Education</th>\n",
       "      <th>Occupation</th>\n",
       "      <th>Salary</th>\n",
       "    </tr>\n",
       "  </thead>\n",
       "  <tbody>\n",
       "    <tr>\n",
       "      <th>0</th>\n",
       "      <td>3</td>\n",
       "      <td>1</td>\n",
       "      <td>153197</td>\n",
       "    </tr>\n",
       "    <tr>\n",
       "      <th>1</th>\n",
       "      <td>3</td>\n",
       "      <td>1</td>\n",
       "      <td>115945</td>\n",
       "    </tr>\n",
       "    <tr>\n",
       "      <th>2</th>\n",
       "      <td>3</td>\n",
       "      <td>1</td>\n",
       "      <td>175935</td>\n",
       "    </tr>\n",
       "    <tr>\n",
       "      <th>3</th>\n",
       "      <td>3</td>\n",
       "      <td>1</td>\n",
       "      <td>220754</td>\n",
       "    </tr>\n",
       "    <tr>\n",
       "      <th>4</th>\n",
       "      <td>3</td>\n",
       "      <td>2</td>\n",
       "      <td>170769</td>\n",
       "    </tr>\n",
       "    <tr>\n",
       "      <th>...</th>\n",
       "      <td>...</td>\n",
       "      <td>...</td>\n",
       "      <td>...</td>\n",
       "    </tr>\n",
       "    <tr>\n",
       "      <th>595</th>\n",
       "      <td>2</td>\n",
       "      <td>4</td>\n",
       "      <td>173935</td>\n",
       "    </tr>\n",
       "    <tr>\n",
       "      <th>596</th>\n",
       "      <td>2</td>\n",
       "      <td>4</td>\n",
       "      <td>212448</td>\n",
       "    </tr>\n",
       "    <tr>\n",
       "      <th>597</th>\n",
       "      <td>2</td>\n",
       "      <td>4</td>\n",
       "      <td>173664</td>\n",
       "    </tr>\n",
       "    <tr>\n",
       "      <th>598</th>\n",
       "      <td>2</td>\n",
       "      <td>4</td>\n",
       "      <td>212760</td>\n",
       "    </tr>\n",
       "    <tr>\n",
       "      <th>599</th>\n",
       "      <td>3</td>\n",
       "      <td>4</td>\n",
       "      <td>212781</td>\n",
       "    </tr>\n",
       "  </tbody>\n",
       "</table>\n",
       "<p>600 rows × 3 columns</p>\n",
       "</div>"
      ],
      "text/plain": [
       "     Education  Occupation  Salary\n",
       "0            3           1  153197\n",
       "1            3           1  115945\n",
       "2            3           1  175935\n",
       "3            3           1  220754\n",
       "4            3           2  170769\n",
       "..         ...         ...     ...\n",
       "595          2           4  173935\n",
       "596          2           4  212448\n",
       "597          2           4  173664\n",
       "598          2           4  212760\n",
       "599          3           4  212781\n",
       "\n",
       "[600 rows x 3 columns]"
      ]
     },
     "execution_count": 15,
     "metadata": {},
     "output_type": "execute_result"
    }
   ],
   "source": [
    "df = pd.read_excel(\"SalaryDataNWW.xlsx\")\n",
    "df\n"
   ]
  },
  {
   "cell_type": "code",
   "execution_count": 24,
   "id": "46aba49b",
   "metadata": {},
   "outputs": [
    {
     "data": {
      "text/html": [
       "<div>\n",
       "<style scoped>\n",
       "    .dataframe tbody tr th:only-of-type {\n",
       "        vertical-align: middle;\n",
       "    }\n",
       "\n",
       "    .dataframe tbody tr th {\n",
       "        vertical-align: top;\n",
       "    }\n",
       "\n",
       "    .dataframe thead th {\n",
       "        text-align: right;\n",
       "    }\n",
       "</style>\n",
       "<table border=\"1\" class=\"dataframe\">\n",
       "  <thead>\n",
       "    <tr style=\"text-align: right;\">\n",
       "      <th></th>\n",
       "      <th>Education</th>\n",
       "      <th>Occupation</th>\n",
       "      <th>Salary</th>\n",
       "    </tr>\n",
       "  </thead>\n",
       "  <tbody>\n",
       "    <tr>\n",
       "      <th>0</th>\n",
       "      <td>3</td>\n",
       "      <td>1</td>\n",
       "      <td>153197</td>\n",
       "    </tr>\n",
       "    <tr>\n",
       "      <th>1</th>\n",
       "      <td>3</td>\n",
       "      <td>1</td>\n",
       "      <td>115945</td>\n",
       "    </tr>\n",
       "    <tr>\n",
       "      <th>2</th>\n",
       "      <td>3</td>\n",
       "      <td>1</td>\n",
       "      <td>175935</td>\n",
       "    </tr>\n",
       "    <tr>\n",
       "      <th>3</th>\n",
       "      <td>3</td>\n",
       "      <td>1</td>\n",
       "      <td>220754</td>\n",
       "    </tr>\n",
       "    <tr>\n",
       "      <th>4</th>\n",
       "      <td>3</td>\n",
       "      <td>2</td>\n",
       "      <td>170769</td>\n",
       "    </tr>\n",
       "    <tr>\n",
       "      <th>...</th>\n",
       "      <td>...</td>\n",
       "      <td>...</td>\n",
       "      <td>...</td>\n",
       "    </tr>\n",
       "    <tr>\n",
       "      <th>571</th>\n",
       "      <td>3</td>\n",
       "      <td>3</td>\n",
       "      <td>249207</td>\n",
       "    </tr>\n",
       "    <tr>\n",
       "      <th>572</th>\n",
       "      <td>3</td>\n",
       "      <td>3</td>\n",
       "      <td>235334</td>\n",
       "    </tr>\n",
       "    <tr>\n",
       "      <th>573</th>\n",
       "      <td>3</td>\n",
       "      <td>3</td>\n",
       "      <td>248871</td>\n",
       "    </tr>\n",
       "    <tr>\n",
       "      <th>574</th>\n",
       "      <td>3</td>\n",
       "      <td>3</td>\n",
       "      <td>257345</td>\n",
       "    </tr>\n",
       "    <tr>\n",
       "      <th>599</th>\n",
       "      <td>3</td>\n",
       "      <td>4</td>\n",
       "      <td>212781</td>\n",
       "    </tr>\n",
       "  </tbody>\n",
       "</table>\n",
       "<p>240 rows × 3 columns</p>\n",
       "</div>"
      ],
      "text/plain": [
       "     Education  Occupation  Salary\n",
       "0            3           1  153197\n",
       "1            3           1  115945\n",
       "2            3           1  175935\n",
       "3            3           1  220754\n",
       "4            3           2  170769\n",
       "..         ...         ...     ...\n",
       "571          3           3  249207\n",
       "572          3           3  235334\n",
       "573          3           3  248871\n",
       "574          3           3  257345\n",
       "599          3           4  212781\n",
       "\n",
       "[240 rows x 3 columns]"
      ]
     },
     "execution_count": 24,
     "metadata": {},
     "output_type": "execute_result"
    }
   ],
   "source": [
    "df[df[\"Education\"] == 3]"
   ]
  },
  {
   "cell_type": "code",
   "execution_count": 25,
   "id": "501ebce8",
   "metadata": {},
   "outputs": [],
   "source": [
    "# ANOVA\n",
    "# Perform one-way ANOVA\n",
    "anova_results = f_oneway(df[df['Education'] == 1]['Salary'],\n",
    "                         df[df['Education'] == 2]['Salary'],\n",
    "                         df[df['Education'] == 3]['Salary'])\n"
   ]
  },
  {
   "cell_type": "code",
   "execution_count": 26,
   "id": "37b87c36",
   "metadata": {},
   "outputs": [
    {
     "name": "stdout",
     "output_type": "stream",
     "text": [
      "ANOVA results:\n",
      "F-statistic: 499.4837624997721\n",
      "p-value: 3.354740360444826e-128\n"
     ]
    }
   ],
   "source": [
    "\n",
    "# Print ANOVA results\n",
    "print(\"ANOVA results:\")\n",
    "print(\"F-statistic:\", anova_results.statistic)\n",
    "print(\"p-value:\", anova_results.pvalue)"
   ]
  },
  {
   "cell_type": "code",
   "execution_count": null,
   "id": "e8913528",
   "metadata": {},
   "outputs": [],
   "source": []
  }
 ],
 "metadata": {
  "kernelspec": {
   "display_name": "Python 3 (ipykernel)",
   "language": "python",
   "name": "python3"
  },
  "language_info": {
   "codemirror_mode": {
    "name": "ipython",
    "version": 3
   },
   "file_extension": ".py",
   "mimetype": "text/x-python",
   "name": "python",
   "nbconvert_exporter": "python",
   "pygments_lexer": "ipython3",
   "version": "3.11.5"
  }
 },
 "nbformat": 4,
 "nbformat_minor": 5
}
